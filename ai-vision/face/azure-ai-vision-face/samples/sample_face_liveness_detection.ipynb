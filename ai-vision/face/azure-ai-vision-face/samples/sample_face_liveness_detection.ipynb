{
 "cells": [
  {
   "cell_type": "markdown",
   "metadata": {},
   "source": [
    "DESCRIPTION:\n",
    "    This sample demonstrates how to inititate liveness detection sessions and obtain an authorization token from the Face service for a particular session. \n",
    "    The Azure AI Face liveness detection solution successfully defends against various spoof types ranging from paper printouts, 2d/3d masks, and spoof presentations on phones and laptops. \n",
    "    Liveness detection is an active area of research, with continuous improvements being made to counteract increasingly sophisticated spoofing attacks over time. "
   ]
  },
  {
   "cell_type": "code",
   "execution_count": 3,
   "metadata": {},
   "outputs": [],
   "source": [
    "import os\n",
    "import uuid\n",
    "\n",
    "from dotenv import find_dotenv, load_dotenv\n",
    "\n",
    "from shared.constants import (\n",
    "    CONFIGURATION_NAME_FACE_API_ACCOUNT_KEY,\n",
    "    CONFIGURATION_NAME_FACE_API_ENDPOINT,\n",
    "    DEFAULT_FACE_API_ACCOUNT_KEY,\n",
    "    DEFAULT_FACE_API_ENDPOINT,\n",
    ")\n",
    "from shared.helpers import beautify_json, get_logger"
   ]
  },
  {
   "cell_type": "code",
   "execution_count": 4,
   "metadata": {},
   "outputs": [],
   "source": [
    "class DetectLiveness:\n",
    "    def __init__(self):\n",
    "        load_dotenv(find_dotenv())\n",
    "        self.endpoint = os.getenv(\n",
    "            CONFIGURATION_NAME_FACE_API_ENDPOINT, DEFAULT_FACE_API_ENDPOINT\n",
    "        )\n",
    "        self.key = os.getenv(\n",
    "            CONFIGURATION_NAME_FACE_API_ACCOUNT_KEY, DEFAULT_FACE_API_ACCOUNT_KEY\n",
    "        )\n",
    "        self.logger = get_logger(\"sample_face_liveness_detection\")\n",
    "\n",
    "    def wait_for_liveness_check_request(self):\n",
    "        # The logic to wait for liveness check request from mobile application.\n",
    "        pass\n",
    "\n",
    "    def send_auth_token_to_client(self, token):\n",
    "        # The logic to provide the session-authorization-token to the mobile application.\n",
    "        pass\n",
    "\n",
    "    def wait_for_liveness_session_complete(self):\n",
    "        # The logic to wait the notification from mobile application.\n",
    "        self.logger.info(\n",
    "            \"Please refer to https://learn.microsoft.com/azure/ai-services/computer-vision/tutorials/liveness\"\n",
    "            \" and use the mobile client SDK to perform liveness detection on your mobile application.\"\n",
    "        )\n",
    "        input(\n",
    "            \"Press any key to continue when you complete these steps to run sample to get session results ...\"\n",
    "        )\n",
    "        pass\n",
    "\n",
    "    def livenessSession(self):\n",
    "        \"\"\"This example demonstrates the liveness detection from a app server-side perspective.\n",
    "        To get the full picture of the entire steps, see https://learn.microsoft.com/azure/ai-services/computer-vision/tutorials/liveness#orchestrate-the-liveness-solution.  # noqa: E501\n",
    "        \"\"\"\n",
    "        from azure.core.credentials import AzureKeyCredential\n",
    "        from azure.ai.vision.face import FaceSessionClient\n",
    "        from azure.ai.vision.face.models import (\n",
    "            CreateLivenessSessionContent,\n",
    "            LivenessOperationMode,\n",
    "        )\n",
    "\n",
    "        with FaceSessionClient(\n",
    "            endpoint=self.endpoint, credential=AzureKeyCredential(self.key)\n",
    "        ) as face_session_client:\n",
    "            # 1. Wait for liveness check request\n",
    "            self.wait_for_liveness_check_request()\n",
    "\n",
    "            # 2. Create a session.\n",
    "            self.logger.info(\"Create a new liveness session.\")\n",
    "            created_session = face_session_client.create_liveness_session(\n",
    "                CreateLivenessSessionContent(\n",
    "                    liveness_operation_mode=LivenessOperationMode.PASSIVE,\n",
    "                    device_correlation_id=str(uuid.uuid4()),\n",
    "                    send_results_to_client=False,\n",
    "                    auth_token_time_to_live_in_seconds=60,\n",
    "                )\n",
    "            )\n",
    "            self.logger.info(f\"Result: {beautify_json(created_session.as_dict())}\")"
   ]
  },
  {
   "cell_type": "code",
   "execution_count": 5,
   "metadata": {},
   "outputs": [
    {
     "name": "stderr",
     "output_type": "stream",
     "text": [
      "2024-07-25 22:22:23 INFO Create a new liveness session.\n",
      "2024-07-25 22:22:24 INFO Result: {\n",
      "    \"sessionId\": \"d717a38e-f214-4519-a4fc-b042841dcd22\",\n",
      "    \"authToken\": \"eyJhbGciOiJFUzI1NiIsImtpZCI6ImtleTEiLCJ0eXAiOiJKV1QifQ.eyJyZWdpb24iOiJlYXN0dXMiLCJzdWJzY3JpcHRpb24taWQiOiI4ZTkxZTUyMzQ1MzA0ODMzYTVlNjA4ODNiYmRmMzA1ZCIsInByb2R1Y3QtaWQiOiJGYWNlLlMwIiwiYWxsb3dlZC1wYXRocyI6Ilt7XCJwYXRoXCI6XCJmYWNlL3YxLjEtcHJldmlldy4xL3Nlc3Npb24vc3RhcnRcIixcIm1ldGhvZFwiOlwiUE9TVFwiLFwicXVvdGFcIjoxLFwiY2FsbFJhdGVSZW5ld2FsUGVyaW9kXCI6NjAsXCJjYWxsUmF0ZUxpbWl0XCI6MX0se1wicGF0aFwiOlwiZmFjZS92MS4xLXByZXZpZXcuMS9kZXRlY3RMaXZlbmVzcy9zaW5nbGVNb2RhbFwiLFwibWV0aG9kXCI6XCJwb3N0XCIsXCJxdW90YVwiOjMsXCJjYWxsUmF0ZVJlbmV3YWxQZXJpb2RcIjo1LFwiY2FsbFJhdGVMaW1pdFwiOjF9XSIsImF6dXJlLXJlc291cmNlLWlkIjoiL3N1YnNjcmlwdGlvbnMvZWM4NDFhMTgtMzA4Ni00ZjEwLWJlZDctMTYwMGIxNzVmYjg2L3Jlc291cmNlR3JvdXBzL3JnLXVzX2FkbWluL3Byb3ZpZGVycy9NaWNyb3NvZnQuQ29nbml0aXZlU2VydmljZXMvYWNjb3VudHMvZXVzLWZhY2UtYXBpIiwic2lkIjoiZDcxN2EzOGUtZjIxNC00NTE5LWE0ZmMtYjA0Mjg0MWRjZDIyIiwiZmFjZSI6IntcImVuZHBvaW50XCI6XCJodHRwczovL2V1cy1mYWNlLWFwaS5jb2duaXRpdmVzZXJ2aWNlcy5henVyZS5jb21cIixcInNlc3Npb25UeXBlXCI6XCJMaXZlbmVzc1wiLFwiY2xpZW50Q2xhaW1zXCI6e1wibGl2ZW5lc3NPcGVyYXRpb25Nb2RlXCI6XCJQYXNzaXZlXCJ9fSIsImF1ZCI6InVybjptcy5mYWNlU2Vzc2lvblRva2VuIiwiZXhwIjoxNzIxOTY0MjA0LCJpYXQiOjE3MjE5NjQxNDQsImlzcyI6InVybjptcy5jb2duaXRpdmVzZXJ2aWNlcyJ9.kNsxgSUreG58aCciAiNugbbhwy5ZTTh2P8C9W7cdgYNWPNByV4OB4C4T5Xc-Odwyftdea_b28V7Wj4hA4Xz0RQ\"\n",
      "}\n"
     ]
    }
   ],
   "source": [
    "if __name__ == \"__main__\":\n",
    "    sample = DetectLiveness()\n",
    "    sample.livenessSession()"
   ]
  },
  {
   "cell_type": "code",
   "execution_count": null,
   "metadata": {},
   "outputs": [],
   "source": []
  }
 ],
 "metadata": {
  "kernelspec": {
   "display_name": "Python 3.11.6 ('.venv': venv)",
   "language": "python",
   "name": "python3"
  },
  "language_info": {
   "codemirror_mode": {
    "name": "ipython",
    "version": 3
   },
   "file_extension": ".py",
   "mimetype": "text/x-python",
   "name": "python",
   "nbconvert_exporter": "python",
   "pygments_lexer": "ipython3",
   "version": "3.11.6"
  },
  "orig_nbformat": 4,
  "vscode": {
   "interpreter": {
    "hash": "3535e884db110cccd4140416f5a226bce4589be269000a8cafebe72ee82fbdb6"
   }
  }
 },
 "nbformat": 4,
 "nbformat_minor": 2
}
